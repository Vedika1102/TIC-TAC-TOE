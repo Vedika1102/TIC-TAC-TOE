{
  "nbformat": 4,
  "nbformat_minor": 0,
  "metadata": {
    "colab": {
      "name": "TIC TAC TOE.ipynb",
      "provenance": [],
      "collapsed_sections": [],
      "authorship_tag": "ABX9TyM9D2GyP5JWwper0H5dDmAA",
      "include_colab_link": true
    },
    "kernelspec": {
      "display_name": "Python 3",
      "name": "python3"
    },
    "language_info": {
      "name": "python"
    }
  },
  "cells": [
    {
      "cell_type": "markdown",
      "metadata": {
        "id": "view-in-github",
        "colab_type": "text"
      },
      "source": [
        "<a href=\"https://colab.research.google.com/github/Vedika1102/TIC-TAC-TOE/blob/main/TIC_TAC_TOE.ipynb\" target=\"_parent\"><img src=\"https://colab.research.google.com/assets/colab-badge.svg\" alt=\"Open In Colab\"/></a>"
      ]
    },
    {
      "cell_type": "code",
      "metadata": {
        "id": "_-Uj7_ltOCdd"
      },
      "source": [
        "from IPython.display import clear_output\n",
        "\n",
        "def display_board(board):\n",
        "    clear_output()  # Remember, this only works in jupyter!\n",
        "    \n",
        "    print('   |   |')\n",
        "    print(' ' + board[7] + ' | ' + board[8] + ' | ' + board[9])\n",
        "    print('   |   |')\n",
        "    print('-----------')\n",
        "    print('   |   |')\n",
        "    print(' ' + board[4] + ' | ' + board[5] + ' | ' + board[6])\n",
        "    print('   |   |')\n",
        "    print('-----------')\n",
        "    print('   |   |')\n",
        "    print(' ' + board[1] + ' | ' + board[2] + ' | ' + board[3])\n",
        "    print('   |   |')"
      ],
      "execution_count": null,
      "outputs": []
    },
    {
      "cell_type": "code",
      "metadata": {
        "colab": {
          "base_uri": "https://localhost:8080/"
        },
        "id": "kfvVTpT_TY2r",
        "outputId": "ad42b534-6a34-4a9d-a589-76c3fd6b3043"
      },
      "source": [
        "board = ['#','X','O','X','O','X','O','X','O','X']\n",
        "display_board(board)"
      ],
      "execution_count": null,
      "outputs": [
        {
          "name": "stdout",
          "output_type": "stream",
          "text": [
            "   |   |\n",
            " X | O | X\n",
            "   |   |\n",
            "-----------\n",
            "   |   |\n",
            " O | X | O\n",
            "   |   |\n",
            "-----------\n",
            "   |   |\n",
            " X | O | X\n",
            "   |   |\n"
          ]
        }
      ]
    },
    {
      "cell_type": "code",
      "metadata": {
        "id": "I8eXYdE-TtHF"
      },
      "source": [
        "def player_input():\n",
        "  marker = ''\n",
        "\n",
        "  while not (marker == 'X' or marker == 'O'):\n",
        "    marker = input(\"Player 1: Do you want X or O :  \").upper()\n",
        "  \n",
        "  if marker == 'X':\n",
        "    return ('X','O')\n",
        "  else:\n",
        "    return ('O','X')"
      ],
      "execution_count": null,
      "outputs": []
    },
    {
      "cell_type": "code",
      "metadata": {
        "colab": {
          "base_uri": "https://localhost:8080/"
        },
        "id": "9NGLdslTwaVs",
        "outputId": "c7575a05-c70b-47a5-ab81-823089678b8f"
      },
      "source": [
        "player_input()"
      ],
      "execution_count": null,
      "outputs": [
        {
          "name": "stdout",
          "output_type": "stream",
          "text": [
            "Player 1: Do you want X or O :  X\n"
          ]
        },
        {
          "data": {
            "text/plain": [
              "('X', 'O')"
            ]
          },
          "execution_count": 35,
          "metadata": {},
          "output_type": "execute_result"
        }
      ]
    },
    {
      "cell_type": "markdown",
      "metadata": {
        "id": "IPeuDBUvwobl"
      },
      "source": [
        "Step 3: Write a function that takes in the board list object, a marker ('X' or 'O'), and a desired position (number 1-9) and assigns it to the board."
      ]
    },
    {
      "cell_type": "code",
      "metadata": {
        "id": "giphxQLGwgX2"
      },
      "source": [
        "def place_marker(board,marker,position):\n",
        "  board[position] = marker "
      ],
      "execution_count": null,
      "outputs": []
    },
    {
      "cell_type": "code",
      "metadata": {
        "colab": {
          "base_uri": "https://localhost:8080/"
        },
        "id": "Lbyhop-jxHqi",
        "outputId": "51789e4c-6abc-447e-e65b-729d67704d30"
      },
      "source": [
        "place_marker(board,'$',8)\n",
        "display_board(board)"
      ],
      "execution_count": null,
      "outputs": [
        {
          "name": "stdout",
          "output_type": "stream",
          "text": [
            "   |   |\n",
            " X | $ | X\n",
            "   |   |\n",
            "-----------\n",
            "   |   |\n",
            " O | X | O\n",
            "   |   |\n",
            "-----------\n",
            "   |   |\n",
            " X | O | X\n",
            "   |   |\n"
          ]
        }
      ]
    },
    {
      "cell_type": "markdown",
      "metadata": {
        "id": "KkCYA2MgxduG"
      },
      "source": [
        "Step 4: Write a function that takes in a board and checks to see if someone has won."
      ]
    },
    {
      "cell_type": "code",
      "metadata": {
        "id": "J9x7OchaxazD"
      },
      "source": [
        "def win_check(board,mark):\n",
        "  return ((board[7] == mark and board[8] == mark and board[9] == mark) or # across the top\n",
        "    (board[4] == mark and board[5] == mark and board[6] == mark) or # across the middle\n",
        "    (board[1] == mark and board[2] == mark and board[3] == mark) or # across the bottom\n",
        "    (board[7] == mark and board[4] == mark and board[1] == mark) or # down the middle\n",
        "    (board[8] == mark and board[5] == mark and board[2] == mark) or # down the middle\n",
        "    (board[9] == mark and board[6] == mark and board[3] == mark) or # down the right side\n",
        "    (board[7] == mark and board[5] == mark and board[3] == mark) or # diagonal\n",
        "    (board[9] == mark and board[5] == mark and board[1] == mark)) # diagonal"
      ],
      "execution_count": null,
      "outputs": []
    },
    {
      "cell_type": "code",
      "metadata": {
        "colab": {
          "base_uri": "https://localhost:8080/"
        },
        "id": "MRH0hofUyzGP",
        "outputId": "b04b3467-2c38-4c14-c0c8-bc444dc76cda"
      },
      "source": [
        "display_board(board)\n",
        "win_check(board,'X')"
      ],
      "execution_count": null,
      "outputs": [
        {
          "name": "stdout",
          "output_type": "stream",
          "text": [
            "   |   |\n",
            " X | $ | X\n",
            "   |   |\n",
            "-----------\n",
            "   |   |\n",
            " O | X | O\n",
            "   |   |\n",
            "-----------\n",
            "   |   |\n",
            " X | O | X\n",
            "   |   |\n"
          ]
        },
        {
          "data": {
            "text/plain": [
              "True"
            ]
          },
          "execution_count": 39,
          "metadata": {},
          "output_type": "execute_result"
        }
      ]
    },
    {
      "cell_type": "markdown",
      "metadata": {
        "id": "UaNfHLqNzD2p"
      },
      "source": [
        "Step 5: Write a function that uses the random module to randomly decide which player goes first. You may want to lookup random.randint() Return a string of which player went first."
      ]
    },
    {
      "cell_type": "code",
      "metadata": {
        "id": "rxr7S3NNzE0m"
      },
      "source": [
        "import random\n",
        "\n",
        "def choose_first():\n",
        "\n",
        "  flip = random.randint(0,1)\n",
        "\n",
        "  if flip == 0:\n",
        "    return 'Player 2'\n",
        "\n",
        "  else:\n",
        "    return 'Player 1'"
      ],
      "execution_count": null,
      "outputs": []
    },
    {
      "cell_type": "markdown",
      "metadata": {
        "id": "5YeLSPB7z0fS"
      },
      "source": [
        "Step 6: Write a function that returns a boolean indicating whether a space on the board is freely available."
      ]
    },
    {
      "cell_type": "code",
      "metadata": {
        "id": "Fh-EfP6Pz1Ds"
      },
      "source": [
        "def space_check(board,position):\n",
        "  return board[position] == ' '\n",
        "  "
      ],
      "execution_count": null,
      "outputs": []
    },
    {
      "cell_type": "markdown",
      "metadata": {
        "id": "Xy7VVkhj0Qt-"
      },
      "source": [
        "Step 7: Write a function that checks if the board is full and returns a boolean value. True if full, False otherwise."
      ]
    },
    {
      "cell_type": "code",
      "metadata": {
        "id": "Vkp0Xxv_0R4z"
      },
      "source": [
        "def full_board_check(board):\n",
        "\n",
        "  for i in range(1,10):\n",
        "    if space_check(board, i):\n",
        "      return False\n",
        "  #Board is full if we return true\n",
        "  return True"
      ],
      "execution_count": null,
      "outputs": []
    },
    {
      "cell_type": "markdown",
      "metadata": {
        "id": "SGeyW29u1YDn"
      },
      "source": [
        "Step 8: Write a function that asks for a player's next position (as a number 1-9) and then uses the function from step 6 to check if its a free position. If it is, then return the position for later use."
      ]
    },
    {
      "cell_type": "code",
      "metadata": {
        "id": "67Ar7Jyx1dCw"
      },
      "source": [
        "def player_choice(board):\n",
        "\n",
        "  position = 0\n",
        "\n",
        "  while position not in range(1,10) or not space_check(board,position):\n",
        "    position = int(input(\"Choose a position (1-9 : \"))\n",
        "\n",
        "  return position"
      ],
      "execution_count": null,
      "outputs": []
    },
    {
      "cell_type": "markdown",
      "metadata": {
        "id": "x71ivvUG2sXh"
      },
      "source": [
        "Step 9: Write a function that asks the player if they want to play again and returns a boolean True if they do want to play again."
      ]
    },
    {
      "cell_type": "code",
      "metadata": {
        "id": "o6agsknm2u9a"
      },
      "source": [
        "def replay():\n",
        "  return input('Do you want to play again? Enter Yes or No: ').lower().startswith('y')\n"
      ],
      "execution_count": null,
      "outputs": []
    },
    {
      "cell_type": "markdown",
      "metadata": {
        "id": "LW8rNXwI3hXc"
      },
      "source": [
        "Step 10: Here comes the hard part! Use while loops and the functions you've made to run the game!"
      ]
    },
    {
      "cell_type": "code",
      "metadata": {
        "colab": {
          "background_save": true,
          "base_uri": "https://localhost:8080/"
        },
        "id": "sp1gl-aN3jw6",
        "outputId": "d6982e82-6b8f-4759-dd9f-1939c4246923"
      },
      "source": [
        "print('Welcome to Tic Tac Toe')\n",
        "\n",
        "while True:\n",
        "\n",
        "  the_board = [' ']*10\n",
        "  player1_marker,player2_marker = player_input()\n",
        "  turn = choose_first()\n",
        "  print(turn + 'will go first.')\n",
        "\n",
        "  play_game = input('Ready to play? Y or N')\n",
        "\n",
        "  if play_game.lower()[0] == 'y':\n",
        "    game_on =True \n",
        "  else: \n",
        "    game_on = False\n",
        "\n",
        "#game play\n",
        "\n",
        "  while game_on:\n",
        "    if turn == 'Player 1':\n",
        "\n",
        "\n",
        "      #display the board\n",
        "      display_board(the_board)\n",
        "\n",
        "      # choose the position\n",
        "      position = player_choice(the_board)\n",
        "\n",
        "      #place the marker on the position\n",
        "      place_marker(the_board, player1_marker, position)\n",
        "      #check if they won\n",
        "      if win_check(the_board,player1_marker):\n",
        "        display_board(the_board)\n",
        "        print('Player 1 has won')\n",
        "        game_on = False\n",
        "      else:\n",
        "        if full_board_check(the_board):\n",
        "          display_board(the_board)\n",
        "          print('Tie Game')\n",
        "          game_on = False\n",
        "        else: \n",
        "          turn = 'Player 2'\n",
        "    else:\n",
        "            # Player2's turn.\n",
        "            \n",
        "            display_board(the_board)\n",
        "            position = player_choice(the_board)\n",
        "            place_marker(the_board, player2_marker, position)\n",
        "\n",
        "            if win_check(the_board, player2_marker):\n",
        "                display_board(the_board)\n",
        "                print('Player 2 has won!')\n",
        "                game_on = False\n",
        "            else:\n",
        "                if full_board_check(the_board):\n",
        "                    display_board(the_board)\n",
        "                    print('The game is a draw!')\n",
        "                    break\n",
        "                else:\n",
        "                    turn = 'Player 1'\n",
        "\n",
        "    if not replay():\n",
        "        break    \n",
        "\n",
        "      \n",
        "\n"
      ],
      "execution_count": null,
      "outputs": [
        {
          "name": "stdout",
          "output_type": "stream",
          "text": [
            "   |   |\n",
            "   |   |  \n",
            "   |   |\n",
            "-----------\n",
            "   |   |\n",
            "   |   |  \n",
            "   |   |\n",
            "-----------\n",
            "   |   |\n",
            " X | O |  \n",
            "   |   |\n"
          ]
        }
      ]
    }
  ]
}